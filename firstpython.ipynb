{
 "cells": [
  {
   "cell_type": "code",
   "execution_count": 11,
   "id": "a1bd5f46",
   "metadata": {},
   "outputs": [
    {
     "name": "stdout",
     "output_type": "stream",
     "text": [
      "my name is jonas\n"
     ]
    }
   ],
   "source": [
    "x = \"my name is jonas\"\n",
    "print (x)"
   ]
  },
  {
   "cell_type": "code",
   "execution_count": 10,
   "id": "0ac0a556",
   "metadata": {},
   "outputs": [
    {
     "name": "stdout",
     "output_type": "stream",
     "text": [
      "40\n"
     ]
    }
   ],
   "source": [
    "y = 5\n",
    "z = 8\n",
    "print (y * z)"
   ]
  },
  {
   "cell_type": "code",
   "execution_count": 12,
   "id": "17054748",
   "metadata": {},
   "outputs": [
    {
     "name": "stdout",
     "output_type": "stream",
     "text": [
      "hello worldhello worldhello worldhello worldhello world\n"
     ]
    }
   ],
   "source": [
    "z = \"hello world\"\n",
    "print (z*5)"
   ]
  },
  {
   "cell_type": "code",
   "execution_count": 19,
   "id": "b5ea0f37",
   "metadata": {},
   "outputs": [
    {
     "name": "stdout",
     "output_type": "stream",
     "text": [
      "Im carryin the wheel\n"
     ]
    }
   ],
   "source": [
    "print (\"Im carryin the wheel\")"
   ]
  },
  {
   "cell_type": "code",
   "execution_count": null,
   "id": "304b5ea7",
   "metadata": {},
   "outputs": [],
   "source": []
  }
 ],
 "metadata": {
  "kernelspec": {
   "display_name": "Python 3 (ipykernel)",
   "language": "python",
   "name": "python3"
  },
  "language_info": {
   "codemirror_mode": {
    "name": "ipython",
    "version": 3
   },
   "file_extension": ".py",
   "mimetype": "text/x-python",
   "name": "python",
   "nbconvert_exporter": "python",
   "pygments_lexer": "ipython3",
   "version": "3.9.13"
  }
 },
 "nbformat": 4,
 "nbformat_minor": 5
}
